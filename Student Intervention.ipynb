{
 "cells": [
  {
   "cell_type": "code",
   "execution_count": 1,
   "metadata": {
    "collapsed": true
   },
   "outputs": [],
   "source": [
    "import numpy as np\n",
    "import pandas as pd\n",
    "\n"
   ]
  },
  {
   "cell_type": "code",
   "execution_count": 2,
   "metadata": {
    "collapsed": true
   },
   "outputs": [],
   "source": [
    "students=pd.read_csv(\"student-data.csv\")"
   ]
  },
  {
   "cell_type": "code",
   "execution_count": 3,
   "metadata": {
    "collapsed": false
   },
   "outputs": [
    {
     "data": {
      "text/html": [
       "<div>\n",
       "<table border=\"1\" class=\"dataframe\">\n",
       "  <thead>\n",
       "    <tr style=\"text-align: right;\">\n",
       "      <th></th>\n",
       "      <th>school</th>\n",
       "      <th>sex</th>\n",
       "      <th>age</th>\n",
       "      <th>address</th>\n",
       "      <th>famsize</th>\n",
       "      <th>Pstatus</th>\n",
       "      <th>Medu</th>\n",
       "      <th>Fedu</th>\n",
       "      <th>Mjob</th>\n",
       "      <th>Fjob</th>\n",
       "      <th>...</th>\n",
       "      <th>internet</th>\n",
       "      <th>romantic</th>\n",
       "      <th>famrel</th>\n",
       "      <th>freetime</th>\n",
       "      <th>goout</th>\n",
       "      <th>Dalc</th>\n",
       "      <th>Walc</th>\n",
       "      <th>health</th>\n",
       "      <th>absences</th>\n",
       "      <th>passed</th>\n",
       "    </tr>\n",
       "  </thead>\n",
       "  <tbody>\n",
       "    <tr>\n",
       "      <th>0</th>\n",
       "      <td>GP</td>\n",
       "      <td>F</td>\n",
       "      <td>18</td>\n",
       "      <td>U</td>\n",
       "      <td>GT3</td>\n",
       "      <td>A</td>\n",
       "      <td>4</td>\n",
       "      <td>4</td>\n",
       "      <td>at_home</td>\n",
       "      <td>teacher</td>\n",
       "      <td>...</td>\n",
       "      <td>no</td>\n",
       "      <td>no</td>\n",
       "      <td>4</td>\n",
       "      <td>3</td>\n",
       "      <td>4</td>\n",
       "      <td>1</td>\n",
       "      <td>1</td>\n",
       "      <td>3</td>\n",
       "      <td>6</td>\n",
       "      <td>no</td>\n",
       "    </tr>\n",
       "    <tr>\n",
       "      <th>1</th>\n",
       "      <td>GP</td>\n",
       "      <td>F</td>\n",
       "      <td>17</td>\n",
       "      <td>U</td>\n",
       "      <td>GT3</td>\n",
       "      <td>T</td>\n",
       "      <td>1</td>\n",
       "      <td>1</td>\n",
       "      <td>at_home</td>\n",
       "      <td>other</td>\n",
       "      <td>...</td>\n",
       "      <td>yes</td>\n",
       "      <td>no</td>\n",
       "      <td>5</td>\n",
       "      <td>3</td>\n",
       "      <td>3</td>\n",
       "      <td>1</td>\n",
       "      <td>1</td>\n",
       "      <td>3</td>\n",
       "      <td>4</td>\n",
       "      <td>no</td>\n",
       "    </tr>\n",
       "    <tr>\n",
       "      <th>2</th>\n",
       "      <td>GP</td>\n",
       "      <td>F</td>\n",
       "      <td>15</td>\n",
       "      <td>U</td>\n",
       "      <td>LE3</td>\n",
       "      <td>T</td>\n",
       "      <td>1</td>\n",
       "      <td>1</td>\n",
       "      <td>at_home</td>\n",
       "      <td>other</td>\n",
       "      <td>...</td>\n",
       "      <td>yes</td>\n",
       "      <td>no</td>\n",
       "      <td>4</td>\n",
       "      <td>3</td>\n",
       "      <td>2</td>\n",
       "      <td>2</td>\n",
       "      <td>3</td>\n",
       "      <td>3</td>\n",
       "      <td>10</td>\n",
       "      <td>yes</td>\n",
       "    </tr>\n",
       "    <tr>\n",
       "      <th>3</th>\n",
       "      <td>GP</td>\n",
       "      <td>F</td>\n",
       "      <td>15</td>\n",
       "      <td>U</td>\n",
       "      <td>GT3</td>\n",
       "      <td>T</td>\n",
       "      <td>4</td>\n",
       "      <td>2</td>\n",
       "      <td>health</td>\n",
       "      <td>services</td>\n",
       "      <td>...</td>\n",
       "      <td>yes</td>\n",
       "      <td>yes</td>\n",
       "      <td>3</td>\n",
       "      <td>2</td>\n",
       "      <td>2</td>\n",
       "      <td>1</td>\n",
       "      <td>1</td>\n",
       "      <td>5</td>\n",
       "      <td>2</td>\n",
       "      <td>yes</td>\n",
       "    </tr>\n",
       "    <tr>\n",
       "      <th>4</th>\n",
       "      <td>GP</td>\n",
       "      <td>F</td>\n",
       "      <td>16</td>\n",
       "      <td>U</td>\n",
       "      <td>GT3</td>\n",
       "      <td>T</td>\n",
       "      <td>3</td>\n",
       "      <td>3</td>\n",
       "      <td>other</td>\n",
       "      <td>other</td>\n",
       "      <td>...</td>\n",
       "      <td>no</td>\n",
       "      <td>no</td>\n",
       "      <td>4</td>\n",
       "      <td>3</td>\n",
       "      <td>2</td>\n",
       "      <td>1</td>\n",
       "      <td>2</td>\n",
       "      <td>5</td>\n",
       "      <td>4</td>\n",
       "      <td>yes</td>\n",
       "    </tr>\n",
       "  </tbody>\n",
       "</table>\n",
       "<p>5 rows × 31 columns</p>\n",
       "</div>"
      ],
      "text/plain": [
       "  school sex  age address famsize Pstatus  Medu  Fedu     Mjob      Fjob  \\\n",
       "0     GP   F   18       U     GT3       A     4     4  at_home   teacher   \n",
       "1     GP   F   17       U     GT3       T     1     1  at_home     other   \n",
       "2     GP   F   15       U     LE3       T     1     1  at_home     other   \n",
       "3     GP   F   15       U     GT3       T     4     2   health  services   \n",
       "4     GP   F   16       U     GT3       T     3     3    other     other   \n",
       "\n",
       "   ...   internet romantic  famrel  freetime  goout Dalc Walc health absences  \\\n",
       "0  ...         no       no       4         3      4    1    1      3        6   \n",
       "1  ...        yes       no       5         3      3    1    1      3        4   \n",
       "2  ...        yes       no       4         3      2    2    3      3       10   \n",
       "3  ...        yes      yes       3         2      2    1    1      5        2   \n",
       "4  ...         no       no       4         3      2    1    2      5        4   \n",
       "\n",
       "  passed  \n",
       "0     no  \n",
       "1     no  \n",
       "2    yes  \n",
       "3    yes  \n",
       "4    yes  \n",
       "\n",
       "[5 rows x 31 columns]"
      ]
     },
     "execution_count": 3,
     "metadata": {},
     "output_type": "execute_result"
    }
   ],
   "source": [
    "students.head()"
   ]
  },
  {
   "cell_type": "markdown",
   "metadata": {},
   "source": [
    "##### find out the following facts about the dataset?\n",
    "Total number of students?\n",
    "Number of students who passed?\n",
    "Number of students who failed?\n",
    "Graduation rate of the class (%)?\n",
    "Number of features?"
   ]
  },
  {
   "cell_type": "code",
   "execution_count": 15,
   "metadata": {
    "collapsed": false
   },
   "outputs": [
    {
     "name": "stdout",
     "output_type": "stream",
     "text": [
      "Total number of students  395\n",
      "Total passed  265\n",
      "Total failed  130\n",
      "Total columns  31\n",
      "Graduation percent  67.09\n"
     ]
    }
   ],
   "source": [
    "totalstudents=students.shape[0]\n",
    "totalpassed=students[students.passed==\"yes\"].shape[0]\n",
    "totalfailed=students[students.passed==\"no\"].shape[0]\n",
    "totalfeatures=len(students.columns)\n",
    "gradpercent=round((totalpassed/float(totalstudents))*100,2)\n",
    "print \"Total number of students \",totalstudents\n",
    "print \"Total passed \",totalpassed\n",
    "print \"Total failed \",totalfailed\n",
    "print \"Total columns \",totalfeatures\n",
    "print \"Graduation percent \",gradpercent"
   ]
  },
  {
   "cell_type": "code",
   "execution_count": 19,
   "metadata": {
    "collapsed": false
   },
   "outputs": [
    {
     "name": "stdout",
     "output_type": "stream",
     "text": [
      "Feature Cols : Index([u'school', u'sex', u'age', u'address', u'famsize', u'Pstatus', u'Medu',\n",
      "       u'Fedu', u'Mjob', u'Fjob', u'reason', u'guardian', u'traveltime',\n",
      "       u'studytime', u'failures', u'schoolsup', u'famsup', u'paid',\n",
      "       u'activities', u'nursery', u'higher', u'internet', u'romantic',\n",
      "       u'famrel', u'freetime', u'goout', u'Dalc', u'Walc', u'health',\n",
      "       u'absences'],\n",
      "      dtype='object')\n",
      "Target Cols : passed\n"
     ]
    }
   ],
   "source": [
    "target_cols=students.columns[-1]\n",
    "feature_cols=students.columns[:-1]\n",
    "X_all=students[feature_cols]\n",
    "y_all=students[target_cols]\n",
    "print \"Feature Cols :\",feature_cols\n",
    "print \"Target Cols :\",target_cols"
   ]
  },
  {
   "cell_type": "code",
   "execution_count": 23,
   "metadata": {
    "collapsed": false
   },
   "outputs": [
    {
     "name": "stdout",
     "output_type": "stream",
     "text": [
      "['school_GP', 'school_MS', 'sex_F', 'sex_M', 'age', 'address_R', 'address_U', 'famsize_GT3', 'famsize_LE3', 'Pstatus_A', 'Pstatus_T', 'Medu', 'Fedu', 'Mjob_at_home', 'Mjob_health', 'Mjob_other', 'Mjob_services', 'Mjob_teacher', 'Fjob_at_home', 'Fjob_health', 'Fjob_other', 'Fjob_services', 'Fjob_teacher', 'reason_course', 'reason_home', 'reason_other', 'reason_reputation', 'guardian_father', 'guardian_mother', 'guardian_other', 'traveltime', 'studytime', 'failures', 'schoolsup', 'famsup', 'paid', 'activities', 'nursery', 'higher', 'internet', 'romantic', 'famrel', 'freetime', 'goout', 'Dalc', 'Walc', 'health', 'absences']\n",
      "48\n"
     ]
    }
   ],
   "source": [
    "#convert all the object columns to numeric\n",
    "def preprocessing(X):\n",
    "    outX=pd.DataFrame(index=X.index)\n",
    "    for col,col_data in X.iteritems():\n",
    "        if col_data.dtype==object:\n",
    "            col_data=col_data.replace([\"yes\",\"no\"],[1,0])\n",
    "        if col_data.dtype==object:\n",
    "            col_data=pd.get_dummies(col_data,prefix=col)\n",
    "        outX=outX.join(col_data)\n",
    "    return outX\n",
    "\n",
    "X_all=preprocessing(X_all)\n",
    "print list(X_all.columns)\n",
    "print len(X_all.columns)"
   ]
  },
  {
   "cell_type": "code",
   "execution_count": 25,
   "metadata": {
    "collapsed": false
   },
   "outputs": [
    {
     "name": "stdout",
     "output_type": "stream",
     "text": [
      "(300, 48)\n",
      "(95, 48)\n"
     ]
    }
   ],
   "source": [
    "#split the model into training and testing set\n",
    "from sklearn.cross_validation import train_test_split\n",
    "def shuffle_split_data(train_set_size):\n",
    "    X_train,X_test,y_train,y_test=train_test_split(X_all,y_all,train_size=train_set_size,random_state=1)\n",
    "    return X_train,X_test,y_train,y_test\n",
    "\n",
    "X_train,X_test,y_train,y_test=shuffle_split_data(300)\n",
    "print X_train.shape\n",
    "print X_test.shape"
   ]
  },
  {
   "cell_type": "code",
   "execution_count": 29,
   "metadata": {
    "collapsed": false
   },
   "outputs": [
    {
     "name": "stdout",
     "output_type": "stream",
     "text": [
      "Model name RandomForestClassifier\n",
      "Done training in sec :0.05\n"
     ]
    }
   ],
   "source": [
    "#training and Evaluating Models\n",
    "from sklearn.ensemble import RandomForestClassifier\n",
    "import time\n",
    "\n",
    "clf=RandomForestClassifier(n_estimators=10)\n",
    "def train_classifier(clf,X_train,y_train):\n",
    "    print \"Model name\",clf.__class__.__name__\n",
    "    start=time.time()\n",
    "    clf.fit(X_train,y_train)\n",
    "    end=time.time()\n",
    "    print \"Done training in sec :{:.2f}\".format(end-start)\n",
    "    \n",
    "train_classifier(clf,X_train,y_train)"
   ]
  },
  {
   "cell_type": "code",
   "execution_count": 34,
   "metadata": {
    "collapsed": false
   },
   "outputs": [
    {
     "name": "stdout",
     "output_type": "stream",
     "text": [
      "Predicting for  RandomForestClassifier\n",
      "Done!\n",
      "Prediction time (secs): 0.010\n",
      "Training accuracy : 0.992443324937\n",
      "Predicting for  RandomForestClassifier\n",
      "Done!\n",
      "Prediction time (secs): 0.015\n",
      "Testing accuracy : 0.828571428571\n"
     ]
    }
   ],
   "source": [
    "from sklearn import metrics\n",
    "def predict_accuracy(clf,features,target):\n",
    "    print \"Predicting for \",clf.__class__.__name__\n",
    "    start=time.time()\n",
    "    y_pred_class=clf.predict(features)\n",
    "    end=time.time()\n",
    "    print \"Done!\\nPrediction time (secs): {:.3f}\".format(end - start)\n",
    "    return metrics.f1_score(target.values, y_pred_class,pos_label='yes')\n",
    "\n",
    "Trainingaccuracy=predict_accuracy(clf,X_train,y_train)\n",
    "print \"Training accuracy :\",Trainingaccuracy\n",
    "Testingaccuracy=predict_accuracy(clf,X_test,y_test)\n",
    "print \"Testing accuracy :\",Testingaccuracy\n",
    "    "
   ]
  },
  {
   "cell_type": "code",
   "execution_count": 35,
   "metadata": {
    "collapsed": false
   },
   "outputs": [
    {
     "name": "stdout",
     "output_type": "stream",
     "text": [
      "------------------------------------\n",
      "100\n",
      "Model name RandomForestClassifier\n",
      "Done training in sec :0.04\n",
      "Predicting for  RandomForestClassifier\n",
      "Done!\n",
      "Prediction time (secs): 0.009\n",
      "Training accuracy 1.0\n",
      "Predicting for  RandomForestClassifier\n",
      "Done!\n",
      "Prediction time (secs): 0.007\n",
      "Testing accuracy 0.740740740741\n",
      "------------------------------------\n",
      "200\n",
      "Model name RandomForestClassifier\n",
      "Done training in sec :0.03\n",
      "Predicting for  RandomForestClassifier\n",
      "Done!\n",
      "Prediction time (secs): 0.010\n",
      "Training accuracy 0.992424242424\n",
      "Predicting for  RandomForestClassifier\n",
      "Done!\n",
      "Prediction time (secs): 0.008\n",
      "Testing accuracy 0.721804511278\n",
      "------------------------------------\n",
      "300\n",
      "Model name RandomForestClassifier\n",
      "Done training in sec :0.03\n",
      "Predicting for  RandomForestClassifier\n",
      "Done!\n",
      "Prediction time (secs): 0.005\n",
      "Training accuracy 0.992405063291\n",
      "Predicting for  RandomForestClassifier\n",
      "Done!\n",
      "Prediction time (secs): 0.005\n",
      "Testing accuracy 0.77037037037\n"
     ]
    }
   ],
   "source": [
    "def train_predict(X_train,X_test,y_train,y_test):\n",
    "    \n",
    "    print \"------------------------------------\"\n",
    "    print len(X_train)\n",
    "    train_classifier(clf,X_train,y_train)\n",
    "    print \"Training accuracy {}\".format(predict_accuracy(clf,X_train,y_train))\n",
    "    print \"Testing accuracy {}\".format(predict_accuracy(clf,X_test,y_test))\n",
    "    \n",
    "X_train,X_test,y_train,y_test=shuffle_split_data(100)\n",
    "train_predict(X_train,X_test,y_train,y_test)\n",
    "\n",
    "X_train,X_test,y_train,y_test=shuffle_split_data(200)\n",
    "train_predict(X_train,X_test,y_train,y_test)\n",
    "\n",
    "X_train,X_test,y_train,y_test=shuffle_split_data(300)\n",
    "train_predict(X_train,X_test,y_train,y_test)"
   ]
  },
  {
   "cell_type": "code",
   "execution_count": 37,
   "metadata": {
    "collapsed": false
   },
   "outputs": [
    {
     "name": "stdout",
     "output_type": "stream",
     "text": [
      "------------------------------------\n",
      "100\n",
      "Model name SVC\n",
      "Done training in sec :0.00\n",
      "Predicting for  SVC\n",
      "Done!\n",
      "Prediction time (secs): 0.002\n",
      "Training accuracy 0.860927152318\n",
      "Predicting for  SVC\n",
      "Done!\n",
      "Prediction time (secs): 0.004\n",
      "Testing accuracy 0.806722689076\n",
      "------------------------------------\n",
      "200\n",
      "Model name SVC\n",
      "Done training in sec :0.01\n",
      "Predicting for  SVC\n",
      "Done!\n",
      "Prediction time (secs): 0.003\n",
      "Training accuracy 0.860841423948\n",
      "Predicting for  SVC\n",
      "Done!\n",
      "Prediction time (secs): 0.004\n",
      "Testing accuracy 0.820512820513\n",
      "------------------------------------\n",
      "300\n",
      "Model name SVC\n",
      "Done training in sec :0.01\n",
      "Predicting for  SVC\n",
      "Done!\n",
      "Prediction time (secs): 0.010\n",
      "Training accuracy 0.858387799564\n",
      "Predicting for  SVC\n",
      "Done!\n",
      "Prediction time (secs): 0.002\n",
      "Testing accuracy 0.846153846154\n"
     ]
    }
   ],
   "source": [
    "from sklearn.svm import SVC\n",
    "clf=SVC()\n",
    "X_train,X_test,y_train,y_test=shuffle_split_data(100)\n",
    "train_predict(X_train,X_test,y_train,y_test)\n",
    "\n",
    "X_train,X_test,y_train,y_test=shuffle_split_data(200)\n",
    "train_predict(X_train,X_test,y_train,y_test)\n",
    "\n",
    "X_train,X_test,y_train,y_test=shuffle_split_data(300)\n",
    "train_predict(X_train,X_test,y_train,y_test)\n"
   ]
  },
  {
   "cell_type": "code",
   "execution_count": null,
   "metadata": {
    "collapsed": true
   },
   "outputs": [],
   "source": []
  }
 ],
 "metadata": {
  "kernelspec": {
   "display_name": "Python 2",
   "language": "python",
   "name": "python2"
  },
  "language_info": {
   "codemirror_mode": {
    "name": "ipython",
    "version": 2
   },
   "file_extension": ".py",
   "mimetype": "text/x-python",
   "name": "python",
   "nbconvert_exporter": "python",
   "pygments_lexer": "ipython2",
   "version": "2.7.13"
  }
 },
 "nbformat": 4,
 "nbformat_minor": 2
}
